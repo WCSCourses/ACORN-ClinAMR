{
  "nbformat": 4,
  "nbformat_minor": 0,
  "metadata": {
    "colab": {
      "provenance": []
    },
    "kernelspec": {
      "name": "python3",
      "display_name": "Python 3"
    },
    "language_info": {
      "name": "python"
    }
  },
  "cells": [
    {
      "cell_type": "markdown",
      "source": [
        "# Module 3: Genome assembly\n",
        "\n",
        "Welcome to the notebook! There are some very important instructions for you to follow:\n",
        "\n",
        "1.) Click on File on the top left corner and select save a copy in drive\n",
        "\n",
        "**Your changes will not be saved if you do not do this step**\n",
        "\n",
        "2.) Click on the name of the workbook in the top left corner and replace \"Copy of\" with your full name\n",
        "\n",
        "**You will be submitting the downloaded notebook file as your proof of completion for this module**\n"
      ],
      "metadata": {
        "id": "P3XElPCze_6i"
      }
    },
    {
      "cell_type": "markdown",
      "source": [
        "Please type:\n",
        "```\n",
        "print(\"Yes, I have done step 1\")\n",
        "print(\"Yes, I have done step 2\")\n",
        "\n",
        "```\n",
        "into the code block below, then run by clicking the \"triangle\"/\"Play\" icon on that block\n",
        "\n"
      ],
      "metadata": {
        "id": "xfXBFOwMiBBJ"
      }
    },
    {
      "cell_type": "code",
      "execution_count": null,
      "metadata": {
        "id": "s5dnFAAnVCEY",
        "colab": {
          "base_uri": "https://localhost:8080/"
        },
        "outputId": "6817ed1f-cdb7-4b4b-a14e-835b1e7df2dd"
      },
      "outputs": [
        {
          "output_type": "stream",
          "name": "stdout",
          "text": [
            "Yes, I have done step 1\n",
            "Yes, I have done step 2\n"
          ]
        }
      ],
      "source": [
        "#this block will be checked\n"
      ]
    },
    {
      "cell_type": "markdown",
      "source": [
        "# Installing Conda\n",
        "Conda is a versatile software management tool. Conda is an open source system of managing tools and libraries. More info on the library used to install conda on Google Colab is at this [website](https://inside-machinelearning.com/en/how-to-install-use-conda-on-google-colab/)\n",
        "\n",
        "Note - your runtime will refresh and reconnect after running this. It will say runtime crashed, this seems normal, wait for the session to reconnect after this.\n",
        "\n",
        "\n",
        "You can check out this repo for how this tool works:\n",
        "https://github.com/conda-incubator/condacolab\n",
        "\n"
      ],
      "metadata": {
        "id": "mR6G93L-jhLD"
      }
    },
    {
      "cell_type": "code",
      "source": [
        "!pip install -q condacolab\n",
        "import condacolab\n",
        "condacolab.install()"
      ],
      "metadata": {
        "id": "jN4iXfC5jgSI"
      },
      "execution_count": null,
      "outputs": []
    },
    {
      "cell_type": "code",
      "execution_count": null,
      "metadata": {
        "id": "3V5Affqxt01i"
      },
      "outputs": [],
      "source": [
        "!conda init"
      ]
    },
    {
      "cell_type": "code",
      "source": [
        "#Add any conda or software installs here\n",
        "!conda install -c bioconda spades"
      ],
      "metadata": {
        "id": "tsuVVadqjxMQ"
      },
      "execution_count": null,
      "outputs": []
    },
    {
      "cell_type": "markdown",
      "source": [
        "# Module Three : Part One - Short read assembly\n",
        "\n"
      ],
      "metadata": {
        "id": "YT8EGKEokfT7"
      }
    },
    {
      "cell_type": "markdown",
      "source": [
        "#### Genome assembly\n",
        "Now we will learn to assemble the sequence reads using the command line. This method is convenient when handling a high number of isolates. There are many tools available such as SPAdes, velvet, shovill etc. Here, we will use the tool SPAdes to assemble the sequence reads of the isolate ERR2093269."
      ],
      "metadata": {
        "id": "i2j42YD366Nz"
      }
    },
    {
      "cell_type": "markdown",
      "metadata": {
        "id": "82fLQvti70Ev"
      },
      "source": [
        "# Retrieve data files for this practical\n",
        "Colab launches a virtual computing environment each time you start a notebook. You will need to download the data you need in the steps to follow using the code blocks below"
      ]
    },
    {
      "cell_type": "markdown",
      "metadata": {
        "id": "6dXwXHw8oh6a"
      },
      "source": [
        "###STEP 1: Download raw sequencing reads from the database"
      ]
    },
    {
      "cell_type": "code",
      "source": [
        "!mkdir short_read_assembly"
      ],
      "metadata": {
        "id": "-UFZFf7eftJr"
      },
      "execution_count": null,
      "outputs": []
    },
    {
      "cell_type": "code",
      "source": [
        "%cd short_read_assembly/"
      ],
      "metadata": {
        "id": "C72KbpUQgJ0m"
      },
      "execution_count": null,
      "outputs": []
    },
    {
      "cell_type": "code",
      "source": [
        "!pwd"
      ],
      "metadata": {
        "id": "jN_1Kl2cHkPn"
      },
      "execution_count": null,
      "outputs": []
    },
    {
      "cell_type": "markdown",
      "metadata": {
        "id": "MynjXKhAuJjM"
      },
      "source": [
        "**Forward Reads**"
      ]
    },
    {
      "cell_type": "code",
      "execution_count": null,
      "metadata": {
        "id": "4pQRlYirr34Y"
      },
      "outputs": [],
      "source": [
        "!wget ftp://ftp.sra.ebi.ac.uk/vol1/fastq/ERR209/009/ERR2093269/ERR2093269_1.fastq.gz"
      ]
    },
    {
      "cell_type": "markdown",
      "metadata": {
        "id": "lUrhalIUsHt7"
      },
      "source": [
        "**Reverse reads**"
      ]
    },
    {
      "cell_type": "code",
      "execution_count": null,
      "metadata": {
        "id": "DydYe2Djr8tx"
      },
      "outputs": [],
      "source": [
        "!wget ftp://ftp.sra.ebi.ac.uk/vol1/fastq/ERR209/009/ERR2093269/ERR2093269_2.fastq.gz"
      ]
    },
    {
      "cell_type": "markdown",
      "source": [
        "### STEP 2: *Check* options for Spades\n"
      ],
      "metadata": {
        "id": "yl-Jy0psgd4Z"
      }
    },
    {
      "cell_type": "code",
      "source": [
        "!spades.py -h"
      ],
      "metadata": {
        "id": "axUHSyzzfc7b"
      },
      "execution_count": null,
      "outputs": []
    },
    {
      "cell_type": "markdown",
      "metadata": {
        "id": "-UeiWDYSsIea"
      },
      "source": [
        "### STEP 3: Run the Spades tool with command line\n",
        "*Run the following command to start your assembly using spades:*\n",
        "\n"
      ]
    },
    {
      "cell_type": "code",
      "execution_count": null,
      "metadata": {
        "id": "MEyKOZ-Guc2a"
      },
      "outputs": [],
      "source": [
        "!spades.py -o SPADES_OUT -1 ERR2093269_1.fastq.gz -2 ERR2093269_2.fastq.gz -t 20"
      ]
    },
    {
      "cell_type": "markdown",
      "source": [
        "In the command option -o refers to the name of the output folder, -1 and -2 refer to the read1 and read2 files. The process will take a while to run, once finished all the output files will be in the SPADES_OUT folder"
      ],
      "metadata": {
        "id": "KnHZuigMsscz"
      }
    },
    {
      "cell_type": "markdown",
      "metadata": {
        "id": "j9ygChJlv2kL"
      },
      "source": [
        "### STEP 4: View the Results"
      ]
    },
    {
      "cell_type": "markdown",
      "source": [
        "Output will be on the SPADES_OUT directory. You can list to view the contents of the folder"
      ],
      "metadata": {
        "id": "nqq151Cf7ylW"
      }
    },
    {
      "cell_type": "code",
      "execution_count": null,
      "metadata": {
        "id": "-f2_xDdSuxA7"
      },
      "outputs": [],
      "source": [
        "%cd SPADES_OUT/"
      ]
    },
    {
      "cell_type": "code",
      "source": [
        "!pwd"
      ],
      "metadata": {
        "id": "BGdf4JOJ2-4T"
      },
      "execution_count": null,
      "outputs": []
    },
    {
      "cell_type": "code",
      "source": [
        "!ls -l"
      ],
      "metadata": {
        "id": "RN2jQ6Ven5Ro"
      },
      "execution_count": null,
      "outputs": []
    },
    {
      "cell_type": "markdown",
      "source": [
        "For downstream analysis, the file you are likely yo be interested in is the \"contigs.fasta\""
      ],
      "metadata": {
        "id": "ZNuT0GFyoC3z"
      }
    },
    {
      "cell_type": "code",
      "source": [
        "# can check how many contigs were generated for your sample\n",
        "!grep '>' SPADES_OUT/contigs.fasta |wc -l"
      ],
      "metadata": {
        "id": "tBO-J85yocUs"
      },
      "execution_count": null,
      "outputs": []
    },
    {
      "cell_type": "markdown",
      "metadata": {
        "id": "QQoAwgfFwaLU"
      },
      "source": [
        "##Assessing quality after assembly using Quast"
      ]
    },
    {
      "cell_type": "code",
      "source": [
        "!conda install -c bioconda quast"
      ],
      "metadata": {
        "id": "BrjZSPDup-ni"
      },
      "execution_count": null,
      "outputs": []
    },
    {
      "cell_type": "markdown",
      "metadata": {
        "id": "hHSbYzvNwdj8"
      },
      "source": [
        "We can also generate statistics for the assembled contigs, namely, number of contigs N50 and total assembled size using another tool “QUAST”. It can be run using the following command:\n"
      ]
    },
    {
      "cell_type": "code",
      "execution_count": null,
      "metadata": {
        "id": "yDoIFpPVvOnz"
      },
      "outputs": [],
      "source": [
        "!quast.py contigs.fasta"
      ]
    },
    {
      "cell_type": "markdown",
      "source": [
        "The tool will create a folder “quast_results” and the results will be within the folder prefixed “results”. In order to view the results by opening the “report.pdf” file.\n"
      ],
      "metadata": {
        "id": "Fe5LkkO8qhLl"
      }
    },
    {
      "cell_type": "code",
      "source": [
        "!ls -l"
      ],
      "metadata": {
        "id": "37PHnN_15gUP"
      },
      "execution_count": null,
      "outputs": []
    },
    {
      "cell_type": "code",
      "source": [
        "%cd quast_results/"
      ],
      "metadata": {
        "id": "JrHhdNMbv-Yo"
      },
      "execution_count": null,
      "outputs": []
    },
    {
      "cell_type": "markdown",
      "metadata": {
        "id": "Hlnbim1Bwsmj"
      },
      "source": [
        "### Question 1: How many contigs were greater than or equal 10000 bp in the assembly?"
      ]
    },
    {
      "cell_type": "markdown",
      "metadata": {
        "id": "2yqhTvqTwyQM"
      },
      "source": []
    },
    {
      "cell_type": "markdown",
      "metadata": {
        "id": "l8l1FNNTwy4t"
      },
      "source": [
        "### Question 2: What was the GC content in the sample?"
      ]
    },
    {
      "cell_type": "markdown",
      "metadata": {
        "id": "3h_maTcgw3rk"
      },
      "source": []
    },
    {
      "cell_type": "markdown",
      "metadata": {
        "id": "7rS3aH8iw3xI"
      },
      "source": [
        "### Question 3: What was the N50?"
      ]
    },
    {
      "cell_type": "markdown",
      "source": [],
      "metadata": {
        "id": "KBkDSZk4yXPE"
      }
    },
    {
      "cell_type": "markdown",
      "metadata": {
        "id": "tXSbuddWrbCj"
      },
      "source": [
        "###Question 4: What was the size of the largest contig?"
      ]
    },
    {
      "cell_type": "markdown",
      "metadata": {
        "id": "9iB6zDZbw748"
      },
      "source": []
    },
    {
      "cell_type": "markdown",
      "metadata": {
        "id": "9VBNmqpKyoCU"
      },
      "source": [
        "###Question 4: Was this a good quality sequence? Support your answer"
      ]
    },
    {
      "cell_type": "markdown",
      "metadata": {
        "id": "6YDINEM5y5QT"
      },
      "source": []
    }
  ]
}