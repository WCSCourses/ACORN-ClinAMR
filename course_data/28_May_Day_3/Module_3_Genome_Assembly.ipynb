{
  "nbformat": 4,
  "nbformat_minor": 0,
  "metadata": {
    "colab": {
      "provenance": []
    },
    "kernelspec": {
      "name": "python3",
      "display_name": "Python 3"
    },
    "language_info": {
      "name": "python"
    }
  },
  "cells": [
    {
      "cell_type": "markdown",
      "source": [
        "# Module 3: Genome assembly\n",
        "\n",
        "Welcome to the notebook! There are some very important instructions for you to follow:\n",
        "\n",
        "1.) Click on File on the top left corner and select save a copy in drive\n",
        "\n",
        "**Your changes will not be saved if you do not do this step**\n",
        "\n",
        "2.) Click on the name of the workbook in the top left corner and replace \"Copy of\" with your full name\n",
        "\n",
        "**You will be submitting the downloaded notebook file as your proof of completion for this module**\n"
      ],
      "metadata": {
        "id": "P3XElPCze_6i"
      }
    },
    {
      "cell_type": "markdown",
      "source": [
        "Please type:\n",
        "```\n",
        "print(\"Yes, I have done step 1\")\n",
        "print(\"Yes, I have done step 2\")\n",
        "\n",
        "```\n",
        "into the code block below, then run by clicking the \"triangle\"/\"Play\" icon on that block\n",
        "\n"
      ],
      "metadata": {
        "id": "xfXBFOwMiBBJ"
      }
    },
    {
      "cell_type": "code",
      "execution_count": null,
      "metadata": {
        "id": "s5dnFAAnVCEY",
        "colab": {
          "base_uri": "https://localhost:8080/"
        },
        "outputId": "6817ed1f-cdb7-4b4b-a14e-835b1e7df2dd"
      },
      "outputs": [
        {
          "output_type": "stream",
          "name": "stdout",
          "text": [
            "Yes, I have done step 1\n",
            "Yes, I have done step 2\n"
          ]
        }
      ],
      "source": [
        "#this block will be checked\n"
      ]
    },
    {
      "cell_type": "markdown",
      "source": [
        "# Installing Conda\n",
        "Conda is a versatile software management tool. Conda is an open source system of managing tools and libraries. More info on the library used to install conda on Google Colab is at this [website](https://inside-machinelearning.com/en/how-to-install-use-conda-on-google-colab/)\n",
        "\n",
        "Note - your runtime will refresh and reconnect after running this. It will say runtime crashed, this seems normal, wait for the session to reconnect after this.\n",
        "\n",
        "\n",
        "You can check out this repo for how this tool works:\n",
        "https://github.com/conda-incubator/condacolab\n",
        "\n"
      ],
      "metadata": {
        "id": "mR6G93L-jhLD"
      }
    },
    {
      "cell_type": "code",
      "source": [
        "!pip install -q condacolab\n",
        "import condacolab\n",
        "condacolab.install()"
      ],
      "metadata": {
        "id": "jN4iXfC5jgSI",
        "colab": {
          "base_uri": "https://localhost:8080/"
        },
        "outputId": "fb1c694b-f9f7-40b2-9862-a54de0ff6f56"
      },
      "execution_count": null,
      "outputs": [
        {
          "output_type": "stream",
          "name": "stdout",
          "text": [
            "⏬ Downloading https://github.com/conda-forge/miniforge/releases/download/23.11.0-0/Mambaforge-23.11.0-0-Linux-x86_64.sh...\n",
            "📦 Installing...\n",
            "📌 Adjusting configuration...\n",
            "🩹 Patching environment...\n",
            "⏲ Done in 0:00:17\n",
            "🔁 Restarting kernel...\n"
          ]
        }
      ]
    },
    {
      "cell_type": "code",
      "execution_count": null,
      "metadata": {
        "id": "3V5Affqxt01i"
      },
      "outputs": [],
      "source": [
        "!conda init"
      ]
    },
    {
      "cell_type": "code",
      "source": [
        "#Add any conda or software installs here\n",
        "!conda install -c bioconda spades"
      ],
      "metadata": {
        "id": "tsuVVadqjxMQ"
      },
      "execution_count": null,
      "outputs": []
    },
    {
      "cell_type": "markdown",
      "source": [
        "# Module Three : Part One - Short read assembly\n",
        "\n"
      ],
      "metadata": {
        "id": "YT8EGKEokfT7"
      }
    },
    {
      "cell_type": "markdown",
      "source": [
        "#### Genome assembly\n",
        "Now we will learn to assemble the sequence reads using the command line. This method is convenient when handling a high number of isolates. There are many tools available such as SPAdes, velvet, shovill etc. Here, we will use the tool SPAdes to assemble the sequence reads of the isolate ERR2093269."
      ],
      "metadata": {
        "id": "i2j42YD366Nz"
      }
    },
    {
      "cell_type": "markdown",
      "metadata": {
        "id": "82fLQvti70Ev"
      },
      "source": [
        "# Retrieve data files for this practical\n",
        "Colab launches a virtual computing environment each time you start a notebook. You will need to download the data you need in the steps to follow using the code blocks below"
      ]
    },
    {
      "cell_type": "markdown",
      "metadata": {
        "id": "6dXwXHw8oh6a"
      },
      "source": [
        "###STEP 1: Download raw sequencing reads from the database"
      ]
    },
    {
      "cell_type": "code",
      "source": [
        "!mkdir short_read_assembly"
      ],
      "metadata": {
        "id": "-UFZFf7eftJr"
      },
      "execution_count": null,
      "outputs": []
    },
    {
      "cell_type": "code",
      "source": [
        "%cd short_read_assembly/"
      ],
      "metadata": {
        "id": "C72KbpUQgJ0m"
      },
      "execution_count": null,
      "outputs": []
    },
    {
      "cell_type": "code",
      "source": [
        "!pwd"
      ],
      "metadata": {
        "id": "jN_1Kl2cHkPn"
      },
      "execution_count": null,
      "outputs": []
    },
    {
      "cell_type": "markdown",
      "metadata": {
        "id": "MynjXKhAuJjM"
      },
      "source": [
        "**Forward Reads**"
      ]
    },
    {
      "cell_type": "code",
      "execution_count": null,
      "metadata": {
        "id": "4pQRlYirr34Y"
      },
      "outputs": [],
      "source": [
        "!wget ftp://ftp.sra.ebi.ac.uk/vol1/fastq/ERR209/009/ERR2093269/ERR2093269_1.fastq.gz"
      ]
    },
    {
      "cell_type": "markdown",
      "metadata": {
        "id": "lUrhalIUsHt7"
      },
      "source": [
        "**Reverse reads**"
      ]
    },
    {
      "cell_type": "code",
      "execution_count": null,
      "metadata": {
        "id": "DydYe2Djr8tx"
      },
      "outputs": [],
      "source": [
        "!wget ftp://ftp.sra.ebi.ac.uk/vol1/fastq/ERR209/009/ERR2093269/ERR2093269_2.fastq.gz"
      ]
    },
    {
      "cell_type": "markdown",
      "source": [
        "### STEP 2: *Check* options for Spades\n"
      ],
      "metadata": {
        "id": "yl-Jy0psgd4Z"
      }
    },
    {
      "cell_type": "code",
      "source": [
        "!spades.py -h"
      ],
      "metadata": {
        "id": "axUHSyzzfc7b"
      },
      "execution_count": null,
      "outputs": []
    },
    {
      "cell_type": "markdown",
      "metadata": {
        "id": "-UeiWDYSsIea"
      },
      "source": [
        "### STEP 3: Run the Spades tool with command line\n",
        "*Run the following command to start your assembly using spades:*\n",
        "\n"
      ]
    },
    {
      "cell_type": "code",
      "execution_count": null,
      "metadata": {
        "id": "MEyKOZ-Guc2a"
      },
      "outputs": [],
      "source": [
        "!spades.py -o SPADES_OUT -1 ERR2093269_1.fastq.gz -2 ERR2093269_2.fastq.gz -t 20"
      ]
    },
    {
      "cell_type": "markdown",
      "source": [
        "In the command option -o refers to the name of the output folder, -1 and -2 refer to the read1 and read2 files. The process will take a while to run, once finished all the output files will be in the SPADES_OUT folder"
      ],
      "metadata": {
        "id": "KnHZuigMsscz"
      }
    },
    {
      "cell_type": "markdown",
      "source": [
        "####NOTE: The assembly process takes a considerable amount of time to complete. To proceed with the rest of the practical, we have provided the results. Please stop the previous command for now and download the SPADES output from the link below."
      ],
      "metadata": {
        "id": "rvLQlagjwkv5"
      }
    },
    {
      "cell_type": "code",
      "source": [
        "!wget https://wcs_data_transfer.cog.sanger.ac.uk/ERR2093245_SPADES_OUT.zip"
      ],
      "metadata": {
        "id": "67X67Jdhwp-0"
      },
      "execution_count": null,
      "outputs": []
    },
    {
      "cell_type": "code",
      "source": [
        "!unzip ERR2093245_SPADES_OUT.zip"
      ],
      "metadata": {
        "id": "cDWWiZxh32I1"
      },
      "execution_count": null,
      "outputs": []
    },
    {
      "cell_type": "markdown",
      "metadata": {
        "id": "j9ygChJlv2kL"
      },
      "source": [
        "### STEP 4: View the Results"
      ]
    },
    {
      "cell_type": "markdown",
      "source": [
        "Output will be on the SPADES_OUT directory. You can list to view the contents of the folder"
      ],
      "metadata": {
        "id": "nqq151Cf7ylW"
      }
    },
    {
      "cell_type": "code",
      "execution_count": null,
      "metadata": {
        "id": "-f2_xDdSuxA7"
      },
      "outputs": [],
      "source": [
        "%cd SPADES_OUT/"
      ]
    },
    {
      "cell_type": "code",
      "source": [
        "!pwd"
      ],
      "metadata": {
        "id": "BGdf4JOJ2-4T"
      },
      "execution_count": null,
      "outputs": []
    },
    {
      "cell_type": "code",
      "source": [
        "!ls -l"
      ],
      "metadata": {
        "id": "RN2jQ6Ven5Ro"
      },
      "execution_count": null,
      "outputs": []
    },
    {
      "cell_type": "markdown",
      "source": [
        "For downstream analysis, the file you are likely yo be interested in is the \"contigs.fasta\""
      ],
      "metadata": {
        "id": "ZNuT0GFyoC3z"
      }
    },
    {
      "cell_type": "code",
      "source": [
        "# can check how many contigs were generated for your sample\n",
        "!grep '>' SPADES_OUT/contigs.fasta |wc -l"
      ],
      "metadata": {
        "id": "tBO-J85yocUs"
      },
      "execution_count": null,
      "outputs": []
    },
    {
      "cell_type": "markdown",
      "metadata": {
        "id": "QQoAwgfFwaLU"
      },
      "source": [
        "##Assessing quality after assembly using Quast"
      ]
    },
    {
      "cell_type": "code",
      "source": [
        "!conda install -c bioconda quast"
      ],
      "metadata": {
        "id": "BrjZSPDup-ni"
      },
      "execution_count": null,
      "outputs": []
    },
    {
      "cell_type": "markdown",
      "metadata": {
        "id": "hHSbYzvNwdj8"
      },
      "source": [
        "We can also generate statistics for the assembled contigs, namely, number of contigs N50 and total assembled size using another tool “QUAST”. It can be run using the following command:\n"
      ]
    },
    {
      "cell_type": "code",
      "execution_count": null,
      "metadata": {
        "id": "yDoIFpPVvOnz"
      },
      "outputs": [],
      "source": [
        "!quast.py contigs.fasta"
      ]
    },
    {
      "cell_type": "markdown",
      "source": [
        "The tool will create a folder “quast_results” and the results will be within the folder prefixed “results”. In order to view the results by opening the “report.pdf” file.\n"
      ],
      "metadata": {
        "id": "Fe5LkkO8qhLl"
      }
    },
    {
      "cell_type": "code",
      "source": [
        "!ls -l"
      ],
      "metadata": {
        "id": "37PHnN_15gUP"
      },
      "execution_count": null,
      "outputs": []
    },
    {
      "cell_type": "code",
      "source": [
        "%cd quast_results/"
      ],
      "metadata": {
        "id": "JrHhdNMbv-Yo"
      },
      "execution_count": null,
      "outputs": []
    },
    {
      "cell_type": "markdown",
      "metadata": {
        "id": "Hlnbim1Bwsmj"
      },
      "source": [
        "### Question 1: How many contigs were greater than or equal 10000 bp in the assembly?"
      ]
    },
    {
      "cell_type": "markdown",
      "metadata": {
        "id": "2yqhTvqTwyQM"
      },
      "source": []
    },
    {
      "cell_type": "markdown",
      "metadata": {
        "id": "l8l1FNNTwy4t"
      },
      "source": [
        "### Question 2: What was the GC content in the sample?"
      ]
    },
    {
      "cell_type": "markdown",
      "metadata": {
        "id": "3h_maTcgw3rk"
      },
      "source": []
    },
    {
      "cell_type": "markdown",
      "metadata": {
        "id": "7rS3aH8iw3xI"
      },
      "source": [
        "### Question 3: What was the N50?"
      ]
    },
    {
      "cell_type": "markdown",
      "source": [],
      "metadata": {
        "id": "KBkDSZk4yXPE"
      }
    },
    {
      "cell_type": "markdown",
      "metadata": {
        "id": "tXSbuddWrbCj"
      },
      "source": [
        "###Question 4: What was the size of the largest contig?"
      ]
    },
    {
      "cell_type": "markdown",
      "metadata": {
        "id": "9iB6zDZbw748"
      },
      "source": []
    },
    {
      "cell_type": "markdown",
      "metadata": {
        "id": "9VBNmqpKyoCU"
      },
      "source": [
        "###Question 4: Was this a good quality sequence? Support your answer"
      ]
    },
    {
      "cell_type": "markdown",
      "metadata": {
        "id": "6YDINEM5y5QT"
      },
      "source": []
    },
    {
      "cell_type": "markdown",
      "source": [
        "### Long read Genome Asssembly"
      ],
      "metadata": {
        "id": "4Vqyh1hTslJh"
      }
    },
    {
      "cell_type": "markdown",
      "source": [
        "\n",
        "Long-read involves reconstructing a complete sequence of DNA from long-read sequencing data. Unlike short-read sequencing, which produces shorter fragments of DNA, long-read sequencing generates much longer fragments, often spanning thousands of base pairs. This method provides several advantages:\n",
        "\n",
        "\n",
        "1.   Improved Contiguity: Long reads can span repetitive regions and complex genomic structures, resulting in more continuous and accurate assemblies.\n",
        "2.   Better Resolution of Complex Regions: Long reads are particularly useful for assembling regions with high GC content, structural variations, and repetitive elements that are challenging for short-read technologies.\n",
        "\n",
        "\n",
        "\n",
        "\n"
      ],
      "metadata": {
        "id": "PybHeUsK0ZVs"
      }
    },
    {
      "cell_type": "code",
      "source": [
        "%cd /content"
      ],
      "metadata": {
        "id": "Lr8_yREatgJj"
      },
      "execution_count": null,
      "outputs": []
    },
    {
      "cell_type": "code",
      "source": [
        "!mkdir long_read_assembly"
      ],
      "metadata": {
        "id": "EUQKkQ2mti62"
      },
      "execution_count": null,
      "outputs": []
    },
    {
      "cell_type": "code",
      "source": [
        "%cd long_read_assembly"
      ],
      "metadata": {
        "id": "KYajCUojtn3p"
      },
      "execution_count": null,
      "outputs": []
    },
    {
      "cell_type": "code",
      "source": [
        "!pwd\n"
      ],
      "metadata": {
        "id": "rL2_r4Dv5-F1",
        "outputId": "da0034cf-4271-42be-a4fa-90bc37b67274",
        "colab": {
          "base_uri": "https://localhost:8080/"
        }
      },
      "execution_count": null,
      "outputs": [
        {
          "output_type": "stream",
          "name": "stdout",
          "text": [
            "/content\n"
          ]
        }
      ]
    },
    {
      "cell_type": "markdown",
      "source": [
        "#### Retrieve long read data"
      ],
      "metadata": {
        "id": "T3nE2DjFsoXK"
      }
    },
    {
      "cell_type": "code",
      "source": [
        "!wget -nc ftp://ftp.sra.ebi.ac.uk/vol1/fastq/SRR176/046/SRR17645346/SRR17645346_1.fastq.gz\n"
      ],
      "metadata": {
        "id": "icgjq4QSsO2Z"
      },
      "execution_count": null,
      "outputs": []
    },
    {
      "cell_type": "markdown",
      "source": [
        "#### Install Flye"
      ],
      "metadata": {
        "id": "7xWm9LLZssZp"
      }
    },
    {
      "cell_type": "markdown",
      "source": [
        "Flye is a de novo assembler for single-molecule sequencing reads, such as those produced by PacBio and Oxford Nanopore Technologies. It is designed for a wide range of datasets, from small bacterial projects to large mammalian-scale assemblies. The package represents a complete pipeline: it takes raw PacBio / ONT reads as input and outputs polished contigs.\n",
        "\n",
        "https://github.com/fenderglass/Flye"
      ],
      "metadata": {
        "id": "3avHx5zjuOvH"
      }
    },
    {
      "cell_type": "code",
      "source": [
        "!conda install -c bioconda flye"
      ],
      "metadata": {
        "id": "JPDmwYVXsfAY"
      },
      "execution_count": null,
      "outputs": []
    },
    {
      "cell_type": "markdown",
      "source": [
        "##### Look at the flye help page"
      ],
      "metadata": {
        "id": "3DTzec7fud0d"
      }
    },
    {
      "cell_type": "code",
      "source": [
        "!flye -h"
      ],
      "metadata": {
        "id": "ks6tuS3Oub4i"
      },
      "execution_count": null,
      "outputs": []
    },
    {
      "cell_type": "code",
      "source": [
        "!flye -t 16 --nano-raw SRR17645346_1.fastq.gz -o assembly"
      ],
      "metadata": {
        "id": "BhVCsjndsTlb"
      },
      "execution_count": null,
      "outputs": []
    },
    {
      "cell_type": "markdown",
      "source": [
        "In this command, the flag -t is used to specify the number of threads, --nano-raw to tell assembler we are provding nanopore reads, and -o to specify the output directory"
      ],
      "metadata": {
        "id": "29rKZyp3zodQ"
      }
    },
    {
      "cell_type": "code",
      "source": [
        "%cd assembly"
      ],
      "metadata": {
        "id": "gi-ham-TtVbm"
      },
      "execution_count": null,
      "outputs": []
    },
    {
      "cell_type": "code",
      "source": [
        "!ls"
      ],
      "metadata": {
        "id": "w0ki8GVAtYfH"
      },
      "execution_count": null,
      "outputs": []
    },
    {
      "cell_type": "markdown",
      "source": [
        "The main output files are:\n",
        "\n",
        "\n",
        "1.  assembly.fasta - Final assembly. Contains contigs and possibly scaffolds\n",
        "2.   assembly_graph.gfa - Final repeat graph. Note that the edge sequences might be different (shorter) than contig sequences, because contigs might include multiple graph edges\n",
        "3. assembly_info.txt - Extra information about contigs (such as length or coverage).\n"
      ],
      "metadata": {
        "id": "YpTTCw50usn-"
      }
    },
    {
      "cell_type": "markdown",
      "source": [
        "####Question 5. Run quast QC on the long read assembly (assembly.fasta) and determine the N50"
      ],
      "metadata": {
        "id": "To26v5NovCeT"
      }
    }
  ]
}